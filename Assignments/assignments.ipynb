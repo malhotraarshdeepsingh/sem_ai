{
  "nbformat": 4,
  "nbformat_minor": 0,
  "metadata": {
    "colab": {
      "provenance": []
    },
    "kernelspec": {
      "name": "python3",
      "display_name": "Python 3"
    },
    "language_info": {
      "name": "python"
    }
  },
  "cells": [
    {
      "cell_type": "markdown",
      "source": [
        "# CHAPTER 1 : HELLO WORLD"
      ],
      "metadata": {
        "id": "aNbe46QPdxKX"
      }
    },
    {
      "cell_type": "code",
      "execution_count": 1,
      "metadata": {
        "colab": {
          "base_uri": "https://localhost:8080/"
        },
        "id": "M_smY11icQzl",
        "outputId": "c374a3b0-3b4b-4048-c667-dd80c2b349fd"
      },
      "outputs": [
        {
          "output_type": "stream",
          "name": "stdout",
          "text": [
            "Arshdeep Singh Malhotra\n",
            "Arshdeep Singh Malhotra\n",
            "Arshdeep Singh Malhotra\n"
          ]
        }
      ],
      "source": [
        "# 1.1 : WAP to print your name three times.\n",
        "\n",
        "name = \"Arshdeep Singh Malhotra\"\n",
        "print(name)\n",
        "print(name)\n",
        "print(name)\n"
      ]
    },
    {
      "cell_type": "markdown",
      "source": [
        "# CHAPTER 2 : ADD NUMBERS AND CONCATENATE STRINGS"
      ],
      "metadata": {
        "id": "PrEjqPOKd60C"
      }
    },
    {
      "cell_type": "code",
      "source": [
        "# 2.1 : WAP to add three numbers and print the result.\n",
        "\n",
        "num1 = 5\n",
        "num2 = 10\n",
        "num3 = 15\n",
        "\n",
        "result = num1 + num2 + num3\n",
        "print(f\"The sum of {num1}, {num2}, and {num3} is: {result}\")\n"
      ],
      "metadata": {
        "colab": {
          "base_uri": "https://localhost:8080/"
        },
        "id": "iY5XQUSTduUf",
        "outputId": "c74929f1-dae8-424a-f334-e8bbeebbaa0b"
      },
      "execution_count": 2,
      "outputs": [
        {
          "output_type": "stream",
          "name": "stdout",
          "text": [
            "The sum of 5, 10, and 15 is: 30\n"
          ]
        }
      ]
    },
    {
      "cell_type": "code",
      "source": [
        "# 2.2 : WAP to concatinate three strings and print the result.\n",
        "\n",
        "str1 = \"Hello\"\n",
        "str2 = \"World\"\n",
        "str3 = \"Python\"\n",
        "\n",
        "result = str1 + str2 + str3\n",
        "print(f\"{str1} + {str2} + {str3} = {result}\")"
      ],
      "metadata": {
        "colab": {
          "base_uri": "https://localhost:8080/"
        },
        "id": "tnxXx7EieD8O",
        "outputId": "7e500433-7917-41ee-805c-04b6a0b2a2b5"
      },
      "execution_count": 3,
      "outputs": [
        {
          "output_type": "stream",
          "name": "stdout",
          "text": [
            "Hello + World + Python = HelloWorldPython\n"
          ]
        }
      ]
    },
    {
      "cell_type": "markdown",
      "source": [
        "# CHAPTER 4 : LOOPS"
      ],
      "metadata": {
        "id": "fNKsc-8veImU"
      }
    },
    {
      "cell_type": "code",
      "source": [
        "# 4.1 : WAP to print the table of 7, 9.\n",
        "\n",
        "def print_table(number):\n",
        "    for i in range(1, 11):\n",
        "        print(f\"{number} x {i} = {number * i}\")\n",
        "\n",
        "print_table(7)\n",
        "print_table(9)"
      ],
      "metadata": {
        "colab": {
          "base_uri": "https://localhost:8080/"
        },
        "id": "mKPUxiNZeKPU",
        "outputId": "b853f703-818b-4395-bf10-26d9b9ee3cf6"
      },
      "execution_count": 4,
      "outputs": [
        {
          "output_type": "stream",
          "name": "stdout",
          "text": [
            "7 x 1 = 7\n",
            "7 x 2 = 14\n",
            "7 x 3 = 21\n",
            "7 x 4 = 28\n",
            "7 x 5 = 35\n",
            "7 x 6 = 42\n",
            "7 x 7 = 49\n",
            "7 x 8 = 56\n",
            "7 x 9 = 63\n",
            "7 x 10 = 70\n",
            "9 x 1 = 9\n",
            "9 x 2 = 18\n",
            "9 x 3 = 27\n",
            "9 x 4 = 36\n",
            "9 x 5 = 45\n",
            "9 x 6 = 54\n",
            "9 x 7 = 63\n",
            "9 x 8 = 72\n",
            "9 x 9 = 81\n",
            "9 x 10 = 90\n"
          ]
        }
      ]
    },
    {
      "cell_type": "code",
      "source": [
        "# 4.2 : WAP to print the table of n where n is taken from user input.\n",
        "\n",
        "n = int(input(\"Enter a number: \"))\n",
        "print_table(n)"
      ],
      "metadata": {
        "colab": {
          "base_uri": "https://localhost:8080/"
        },
        "id": "XlVavMkpeRqh",
        "outputId": "5389cb3a-c254-4adc-f778-675c817f92f7"
      },
      "execution_count": 5,
      "outputs": [
        {
          "output_type": "stream",
          "name": "stdout",
          "text": [
            "Enter a number: 10\n",
            "10 x 1 = 10\n",
            "10 x 2 = 20\n",
            "10 x 3 = 30\n",
            "10 x 4 = 40\n",
            "10 x 5 = 50\n",
            "10 x 6 = 60\n",
            "10 x 7 = 70\n",
            "10 x 8 = 80\n",
            "10 x 9 = 90\n",
            "10 x 10 = 100\n"
          ]
        }
      ]
    },
    {
      "cell_type": "code",
      "source": [
        "# 4.3 : WAP to add all the numbers from 1 to n where n is taken from user input.\n",
        "\n",
        "n = int(input(\"Enter a number: \"))\n",
        "sum = sum(range(1, n + 1))\n",
        "print(f\"The sum of numbers from 1 to {n} is {sum}\")"
      ],
      "metadata": {
        "colab": {
          "base_uri": "https://localhost:8080/"
        },
        "id": "BlPt18weeVQ3",
        "outputId": "d6fca59a-2bb0-4332-8fa0-f7ecad6404ca"
      },
      "execution_count": 6,
      "outputs": [
        {
          "output_type": "stream",
          "name": "stdout",
          "text": [
            "Enter a number: 10\n",
            "The sum of numbers from 1 to 10 is 55\n"
          ]
        }
      ]
    },
    {
      "cell_type": "markdown",
      "source": [
        "# CHAPTER 5 : CONDITIONAL STATEMENTS"
      ],
      "metadata": {
        "id": "jopkmMMbeaec"
      }
    },
    {
      "cell_type": "code",
      "source": [
        "# 5.1 : WAP to find max among three numbers given by user input.\n",
        "\n",
        "num1 = int(input(\"Enter first number: \"))\n",
        "num2 = int(input(\"Enter second number: \"))\n",
        "num3 = int(input(\"Enter third number: \"))\n",
        "\n",
        "max_num = max(num1, num2, num3)\n",
        "print(f\"The maximum number among {num1}, {num2}, and {num3} is: {max_num}\")\n"
      ],
      "metadata": {
        "colab": {
          "base_uri": "https://localhost:8080/"
        },
        "id": "wRRLA0uFebyL",
        "outputId": "95fe7c8c-5835-4444-e160-f4f31623e9d0"
      },
      "execution_count": 8,
      "outputs": [
        {
          "output_type": "stream",
          "name": "stdout",
          "text": [
            "Enter first number: 10\n",
            "Enter second number: 10\n",
            "Enter third number: 10\n",
            "The maximum number among 10, 10, and 10 is: 10\n"
          ]
        }
      ]
    },
    {
      "cell_type": "code",
      "source": [
        "# 5.2 : WAP to add all the numbers which are divisible by 7 and 9 from 1 to n where n is taken from user input.\n",
        "\n",
        "n = int(input(\"Enter a number: \"))\n",
        "sum_divisible = sum(i for i in range(1, n + 1) if i % 7 == 0 and i % 9 == 0)\n",
        "print(f\"The sum of numbers from 1 to {n} that are divisible by 7 and 9 is: {sum_divisible}\")\n"
      ],
      "metadata": {
        "colab": {
          "base_uri": "https://localhost:8080/"
        },
        "id": "W6o98nU_eoat",
        "outputId": "432d6fb2-c9cb-4b02-db3b-c6e46eaa4c34"
      },
      "execution_count": 14,
      "outputs": [
        {
          "output_type": "stream",
          "name": "stdout",
          "text": [
            "Enter a number: 100\n",
            "The sum of numbers from 1 to 100 that are divisible by 7 and 9 is: 63\n"
          ]
        }
      ]
    },
    {
      "cell_type": "code",
      "source": [
        "# 5.3 : WAP to add all prime numbers from 1 to n where n is taken from user input.\n",
        "\n",
        "def is_prime(num):\n",
        "    if num <= 1:\n",
        "        return False\n",
        "    for i in range(2, int(num**0.5) + 1):\n",
        "        if num % i == 0:\n",
        "            return False\n",
        "    return True\n",
        "\n",
        "n = int(input(\"Enter a number: \"))\n",
        "sum_primes = sum(i for i in range(1, n + 1) if is_prime(i))\n",
        "print(f\"The sum of prime numbers from 1 to {n} is: {sum_primes}\")"
      ],
      "metadata": {
        "colab": {
          "base_uri": "https://localhost:8080/"
        },
        "id": "-WG6vW96fnzq",
        "outputId": "c8453d08-32ea-4f77-d76c-b4ba01cc6226"
      },
      "execution_count": 15,
      "outputs": [
        {
          "output_type": "stream",
          "name": "stdout",
          "text": [
            "Enter a number: 100\n",
            "The sum of prime numbers from 1 to 100 is: 1060\n"
          ]
        }
      ]
    },
    {
      "cell_type": "markdown",
      "source": [
        "# CHAPTER 6 : FUNCTIONS"
      ],
      "metadata": {
        "id": "YKEZDnzAfyB1"
      }
    },
    {
      "cell_type": "code",
      "source": [
        "# 6.1 : WAP using function that add all the numbers from 1 to n where n is taken from user input.\n",
        "\n",
        "def sum_numbers(n):\n",
        "    s = 0\n",
        "    for i in range(1, n + 1):\n",
        "        s = s + i\n",
        "    return s\n",
        "\n",
        "n = int(input(\"Enter a number: \"))\n",
        "print(f\"The sum of numbers from 1 to {n} is: {sum_numbers(n)}\")"
      ],
      "metadata": {
        "colab": {
          "base_uri": "https://localhost:8080/"
        },
        "id": "Lm7KlqwCfzUF",
        "outputId": "dd9bd495-e4ee-4ded-b03f-94e0ee83d6f3"
      },
      "execution_count": 16,
      "outputs": [
        {
          "output_type": "stream",
          "name": "stdout",
          "text": [
            "Enter a number: 100\n",
            "The sum of numbers from 1 to 100 is: 5050\n"
          ]
        }
      ]
    },
    {
      "cell_type": "code",
      "source": [
        "# 6.2 : WAP using function that add all prime numbers from 1 to n where n is taken from user input.\n",
        "\n",
        "def is_prime(num):\n",
        "    if num <= 1:\n",
        "        return False\n",
        "    for i in range(2, int(num**0.5) + 1):\n",
        "        if num % i == 0:\n",
        "            return False\n",
        "    return True\n",
        "\n",
        "def sum_prime_numbers(n):\n",
        "    return sum(i for i in range(1, n + 1) if is_prime(i))\n",
        "\n",
        "n = int(input(\"Enter a number: \"))\n",
        "print(f\"The sum of prime numbers from 1 to {n} is: {sum_prime_numbers(n)}\")\n"
      ],
      "metadata": {
        "colab": {
          "base_uri": "https://localhost:8080/"
        },
        "id": "yEnqweYQf6YQ",
        "outputId": "a70f5600-07a1-4d17-8f36-9809f47327c7"
      },
      "execution_count": 17,
      "outputs": [
        {
          "output_type": "stream",
          "name": "stdout",
          "text": [
            "Enter a number: 100\n",
            "The sum of prime numbers from 1 to 100 is: 1060\n"
          ]
        }
      ]
    }
  ]
}